{
 "cells": [
  {
   "cell_type": "markdown",
   "metadata": {},
   "source": [
    "### 1. Write a program in Python with one class called Cipher.Within the constructor of this class, ask user for a string and store it. Use a static variable, key to store a randomly generated integer between 1 and 50 inclusive. Implement two methods, encrypt and decrypt within this class. Encrypt generates and prints a cipher text using the user-entered string and the key and decrypt generates decrypted stringfrom ciphertext. The cipher only encrypts alpha and numeric (A-Z, a-z, 0-9). All Symbols, such as - , ; %, remain unencrypted. The cipher text can have special characters.Use generator expression to filter out alpha and numeric characters of the input string and to generate cipher text. Create an instance of this class, encrypt and decrypt back the user entered string."
   ]
  },
  {
   "cell_type": "code",
   "execution_count": 1,
   "metadata": {},
   "outputs": [
    {
     "name": "stdout",
     "output_type": "stream",
     "text": [
      "Please enter the string to encrypt\n",
      "Mahesh#$%456ACADGILD\n",
      "Encrypted text is Ocjguj#$%678CECFIKNF \n",
      "Decrypted text is Mahesh#$%456ACADGILD\n"
     ]
    }
   ],
   "source": [
    "import random as rd\n",
    "\n",
    "\n",
    "class Cipher:\n",
    "    key = rd.randint(1, 51)\n",
    "\n",
    "    def __init__(self):\n",
    "        self.strin = input(\"Please enter the string to encrypt\\n\")\n",
    "        self.cipher_text = \"\"\n",
    "        self.decipher_text = \"\"\n",
    "\n",
    "    def encrypt(self):\n",
    "        cipher_list = list()\n",
    "        for x in self.__cryptography(self.strin, Cipher.key):\n",
    "            cipher_list.append(x)\n",
    "        self.cipher_text = \"\".join(cipher_list)\n",
    "\n",
    "    def decrypt(self):\n",
    "        decipher_list = list()\n",
    "        for x in self.__cryptography(self.cipher_text, -Cipher.key):\n",
    "            decipher_list.append(x)\n",
    "        self.decipher_text = \"\".join(decipher_list)\n",
    "\n",
    "    def __cryptography(self,in_string, key):\n",
    "        for symbol in in_string:\n",
    "            if symbol.isalpha():\n",
    "                alpha_key = key % 26\n",
    "                num = ord(symbol)\n",
    "                num += alpha_key\n",
    "                if symbol.isupper():\n",
    "                    if num > ord('Z'):\n",
    "                        num -= 26\n",
    "                    elif num < ord('A'):\n",
    "                        num += 26\n",
    "                elif symbol.islower():\n",
    "                    if num > ord('z'):\n",
    "                        num -= 26\n",
    "                    elif num < ord('a'):\n",
    "                        num += 26\n",
    "                yield chr(num)\n",
    "            elif symbol.isdigit():\n",
    "                digit_key = key % 10\n",
    "                num = ord(symbol)\n",
    "                num += digit_key\n",
    "                if not chr(num).isdigit():\n",
    "                    num = num - 10\n",
    "                yield chr(num)\n",
    "            else:\n",
    "                yield symbol\n",
    "\n",
    "\n",
    "c = Cipher()\n",
    "c.encrypt()\n",
    "print (\"Encrypted text is %s \" % c.cipher_text)\n",
    "c.decrypt()\n",
    "print (\"Decrypted text is %s\" % c.decipher_text)"
   ]
  },
  {
   "cell_type": "code",
   "execution_count": null,
   "metadata": {},
   "outputs": [],
   "source": []
  }
 ],
 "metadata": {
  "kernelspec": {
   "display_name": "Python 3",
   "language": "python",
   "name": "python3"
  },
  "language_info": {
   "codemirror_mode": {
    "name": "ipython",
    "version": 3
   },
   "file_extension": ".py",
   "mimetype": "text/x-python",
   "name": "python",
   "nbconvert_exporter": "python",
   "pygments_lexer": "ipython3",
   "version": "3.6.4"
  }
 },
 "nbformat": 4,
 "nbformat_minor": 2
}
